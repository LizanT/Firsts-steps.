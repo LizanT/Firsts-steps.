{
 "cells": [
  {
   "cell_type": "markdown",
   "id": "6c1ee949-3c79-4165-b37a-9189cf17e77c",
   "metadata": {},
   "source": [
    "# DATA CLEANING."
   ]
  },
  {
   "cell_type": "code",
   "execution_count": 2,
   "id": "95840131-dd59-4714-b88a-c26d503cf1bf",
   "metadata": {},
   "outputs": [],
   "source": [
    "import numpy as np\n",
    "import pandas as pd\n",
    "import seaborn as sns\n",
    "import matplotlib.pyplot as plt"
   ]
  },
  {
   "cell_type": "code",
   "execution_count": 3,
   "id": "2df9cafd-94b5-4a0d-b95b-c3d81a1433e1",
   "metadata": {},
   "outputs": [
    {
     "data": {
      "text/plain": [
       "'\\nimport kagglehub\\n\\n# Download latest version\\npath = kagglehub.dataset_download(\"ahmadrazakashif/salary-data\")\\n\\nprint(\"Path to dataset files:\", path)\\n'"
      ]
     },
     "execution_count": 3,
     "metadata": {},
     "output_type": "execute_result"
    }
   ],
   "source": [
    "df = pd.read_csv(\"Salary_Data.csv\")\n",
    "\n",
    "# Dataset from kagglehub by Ahmadrazakashif.\n",
    "'''\n",
    "import kagglehub\n",
    "\n",
    "# Download latest version\n",
    "path = kagglehub.dataset_download(\"ahmadrazakashif/salary-data\")\n",
    "\n",
    "print(\"Path to dataset files:\", path)\n",
    "'''"
   ]
  },
  {
   "cell_type": "markdown",
   "id": "21070bd7-23b0-448c-ae6c-d9e033a17594",
   "metadata": {},
   "source": [
    "## Look the first 5 rows."
   ]
  },
  {
   "cell_type": "code",
   "execution_count": 4,
   "id": "3c147c81-8912-4ce2-9ca8-9754ab0ea1ad",
   "metadata": {},
   "outputs": [
    {
     "data": {
      "text/html": [
       "<div>\n",
       "<style scoped>\n",
       "    .dataframe tbody tr th:only-of-type {\n",
       "        vertical-align: middle;\n",
       "    }\n",
       "\n",
       "    .dataframe tbody tr th {\n",
       "        vertical-align: top;\n",
       "    }\n",
       "\n",
       "    .dataframe thead th {\n",
       "        text-align: right;\n",
       "    }\n",
       "</style>\n",
       "<table border=\"1\" class=\"dataframe\">\n",
       "  <thead>\n",
       "    <tr style=\"text-align: right;\">\n",
       "      <th></th>\n",
       "      <th>Unnamed: 0</th>\n",
       "      <th>Age</th>\n",
       "      <th>Gender</th>\n",
       "      <th>Education Level</th>\n",
       "      <th>Job Title</th>\n",
       "      <th>Years of Experience</th>\n",
       "      <th>Salary</th>\n",
       "    </tr>\n",
       "  </thead>\n",
       "  <tbody>\n",
       "    <tr>\n",
       "      <th>0</th>\n",
       "      <td>0</td>\n",
       "      <td>32.0</td>\n",
       "      <td>male</td>\n",
       "      <td>Bachelor</td>\n",
       "      <td>Software Engineer</td>\n",
       "      <td>5.0</td>\n",
       "      <td>90000.0</td>\n",
       "    </tr>\n",
       "    <tr>\n",
       "      <th>1</th>\n",
       "      <td>1</td>\n",
       "      <td>28.0</td>\n",
       "      <td>female</td>\n",
       "      <td>Master</td>\n",
       "      <td>Data Analyst</td>\n",
       "      <td>3.0</td>\n",
       "      <td>65000.0</td>\n",
       "    </tr>\n",
       "    <tr>\n",
       "      <th>2</th>\n",
       "      <td>2</td>\n",
       "      <td>45.0</td>\n",
       "      <td>male</td>\n",
       "      <td>phd</td>\n",
       "      <td>Senior Manager</td>\n",
       "      <td>15.0</td>\n",
       "      <td>150000.0</td>\n",
       "    </tr>\n",
       "    <tr>\n",
       "      <th>3</th>\n",
       "      <td>3</td>\n",
       "      <td>36.0</td>\n",
       "      <td>female</td>\n",
       "      <td>Bachelor</td>\n",
       "      <td>Sales Associate</td>\n",
       "      <td>7.0</td>\n",
       "      <td>60000.0</td>\n",
       "    </tr>\n",
       "    <tr>\n",
       "      <th>4</th>\n",
       "      <td>4</td>\n",
       "      <td>52.0</td>\n",
       "      <td>male</td>\n",
       "      <td>Master</td>\n",
       "      <td>Director</td>\n",
       "      <td>20.0</td>\n",
       "      <td>200000.0</td>\n",
       "    </tr>\n",
       "  </tbody>\n",
       "</table>\n",
       "</div>"
      ],
      "text/plain": [
       "   Unnamed: 0   Age  Gender Education Level          Job Title  \\\n",
       "0           0  32.0    male        Bachelor  Software Engineer   \n",
       "1           1  28.0  female          Master       Data Analyst   \n",
       "2           2  45.0    male             phd     Senior Manager   \n",
       "3           3  36.0  female        Bachelor    Sales Associate   \n",
       "4           4  52.0    male          Master           Director   \n",
       "\n",
       "   Years of Experience    Salary  \n",
       "0                  5.0   90000.0  \n",
       "1                  3.0   65000.0  \n",
       "2                 15.0  150000.0  \n",
       "3                  7.0   60000.0  \n",
       "4                 20.0  200000.0  "
      ]
     },
     "execution_count": 4,
     "metadata": {},
     "output_type": "execute_result"
    }
   ],
   "source": [
    "df.head()"
   ]
  },
  {
   "cell_type": "markdown",
   "id": "a49ea252-2ba4-4e5f-b786-a0a9ed1e6003",
   "metadata": {},
   "source": [
    "## Last 5 rows."
   ]
  },
  {
   "cell_type": "code",
   "execution_count": 5,
   "id": "6d038035-c3a7-49b9-8008-f1774cb902e1",
   "metadata": {},
   "outputs": [
    {
     "data": {
      "text/html": [
       "<div>\n",
       "<style scoped>\n",
       "    .dataframe tbody tr th:only-of-type {\n",
       "        vertical-align: middle;\n",
       "    }\n",
       "\n",
       "    .dataframe tbody tr th {\n",
       "        vertical-align: top;\n",
       "    }\n",
       "\n",
       "    .dataframe thead th {\n",
       "        text-align: right;\n",
       "    }\n",
       "</style>\n",
       "<table border=\"1\" class=\"dataframe\">\n",
       "  <thead>\n",
       "    <tr style=\"text-align: right;\">\n",
       "      <th></th>\n",
       "      <th>Unnamed: 0</th>\n",
       "      <th>Age</th>\n",
       "      <th>Gender</th>\n",
       "      <th>Education Level</th>\n",
       "      <th>Job Title</th>\n",
       "      <th>Years of Experience</th>\n",
       "      <th>Salary</th>\n",
       "    </tr>\n",
       "  </thead>\n",
       "  <tbody>\n",
       "    <tr>\n",
       "      <th>1779</th>\n",
       "      <td>6623</td>\n",
       "      <td>43.0</td>\n",
       "      <td>female</td>\n",
       "      <td>Master</td>\n",
       "      <td>Digital Marketing Manager</td>\n",
       "      <td>15.0</td>\n",
       "      <td>150000.0</td>\n",
       "    </tr>\n",
       "    <tr>\n",
       "      <th>1780</th>\n",
       "      <td>6624</td>\n",
       "      <td>27.0</td>\n",
       "      <td>male</td>\n",
       "      <td>high school</td>\n",
       "      <td>Sales Manager</td>\n",
       "      <td>2.0</td>\n",
       "      <td>40000.0</td>\n",
       "    </tr>\n",
       "    <tr>\n",
       "      <th>1781</th>\n",
       "      <td>6625</td>\n",
       "      <td>33.0</td>\n",
       "      <td>female</td>\n",
       "      <td>Bachelor</td>\n",
       "      <td>Director of Marketing</td>\n",
       "      <td>8.0</td>\n",
       "      <td>80000.0</td>\n",
       "    </tr>\n",
       "    <tr>\n",
       "      <th>1782</th>\n",
       "      <td>6628</td>\n",
       "      <td>37.0</td>\n",
       "      <td>male</td>\n",
       "      <td>Bachelor</td>\n",
       "      <td>Sales Director</td>\n",
       "      <td>7.0</td>\n",
       "      <td>90000.0</td>\n",
       "    </tr>\n",
       "    <tr>\n",
       "      <th>1783</th>\n",
       "      <td>6631</td>\n",
       "      <td>30.0</td>\n",
       "      <td>female</td>\n",
       "      <td>Bachelor</td>\n",
       "      <td>Sales Manager</td>\n",
       "      <td>5.0</td>\n",
       "      <td>70000.0</td>\n",
       "    </tr>\n",
       "  </tbody>\n",
       "</table>\n",
       "</div>"
      ],
      "text/plain": [
       "      Unnamed: 0   Age  Gender Education Level                  Job Title  \\\n",
       "1779        6623  43.0  female          Master  Digital Marketing Manager   \n",
       "1780        6624  27.0    male     high school              Sales Manager   \n",
       "1781        6625  33.0  female        Bachelor      Director of Marketing   \n",
       "1782        6628  37.0    male        Bachelor             Sales Director   \n",
       "1783        6631  30.0  female        Bachelor              Sales Manager   \n",
       "\n",
       "      Years of Experience    Salary  \n",
       "1779                 15.0  150000.0  \n",
       "1780                  2.0   40000.0  \n",
       "1781                  8.0   80000.0  \n",
       "1782                  7.0   90000.0  \n",
       "1783                  5.0   70000.0  "
      ]
     },
     "execution_count": 5,
     "metadata": {},
     "output_type": "execute_result"
    }
   ],
   "source": [
    "df.tail()"
   ]
  },
  {
   "cell_type": "markdown",
   "id": "7f5a08be-dd1b-4ef3-a5e7-bdacbc349d8e",
   "metadata": {},
   "source": [
    "## Dataset Size."
   ]
  },
  {
   "cell_type": "code",
   "execution_count": 6,
   "id": "dcdd2f14-9623-4621-a93c-dc1a69e8d208",
   "metadata": {},
   "outputs": [
    {
     "name": "stdout",
     "output_type": "stream",
     "text": [
      "Rows: 1784 Columns: 7\n"
     ]
    }
   ],
   "source": [
    "print(\"Rows:\", df.shape[0], \"Columns:\", df.shape[1])\n"
   ]
  },
  {
   "cell_type": "markdown",
   "id": "fde63e48-e9af-464f-bfe3-fdea145b29a4",
   "metadata": {},
   "source": [
    "## General Information."
   ]
  },
  {
   "cell_type": "code",
   "execution_count": 7,
   "id": "a189d08d-e96c-4108-9fb7-88e2df13196d",
   "metadata": {},
   "outputs": [
    {
     "name": "stdout",
     "output_type": "stream",
     "text": [
      "<class 'pandas.core.frame.DataFrame'>\n",
      "RangeIndex: 1784 entries, 0 to 1783\n",
      "Data columns (total 7 columns):\n",
      " #   Column               Non-Null Count  Dtype  \n",
      "---  ------               --------------  -----  \n",
      " 0   Unnamed: 0           1784 non-null   int64  \n",
      " 1   Age                  1784 non-null   float64\n",
      " 2   Gender               1784 non-null   object \n",
      " 3   Education Level      1784 non-null   object \n",
      " 4   Job Title            1784 non-null   object \n",
      " 5   Years of Experience  1784 non-null   float64\n",
      " 6   Salary               1784 non-null   float64\n",
      "dtypes: float64(3), int64(1), object(3)\n",
      "memory usage: 97.7+ KB\n"
     ]
    }
   ],
   "source": [
    "# This step is essential because the dataset has 187.531 rows and there is columns with less rows that should be.\n",
    "df.info()"
   ]
  },
  {
   "cell_type": "markdown",
   "id": "83c89936-4081-4686-b6ef-568cb5de33a0",
   "metadata": {},
   "source": [
    "## Check Null Values By Columns."
   ]
  },
  {
   "cell_type": "code",
   "execution_count": 8,
   "id": "4094a0e6-0cc6-4ac6-bf5a-958f44906cf6",
   "metadata": {},
   "outputs": [
    {
     "data": {
      "text/plain": [
       "Unnamed: 0             0\n",
       "Age                    0\n",
       "Gender                 0\n",
       "Education Level        0\n",
       "Job Title              0\n",
       "Years of Experience    0\n",
       "Salary                 0\n",
       "dtype: int64"
      ]
     },
     "execution_count": 8,
     "metadata": {},
     "output_type": "execute_result"
    }
   ],
   "source": [
    "df.isnull().sum()"
   ]
  },
  {
   "cell_type": "markdown",
   "id": "76c3882b-b1e6-4e95-92df-71c5ad79bcf7",
   "metadata": {},
   "source": [
    "# Clean data after copy it."
   ]
  },
  {
   "cell_type": "code",
   "execution_count": 9,
   "id": "e8a5bbf5-1e20-4fd5-82fb-36c43e8e9ced",
   "metadata": {},
   "outputs": [],
   "source": [
    "df_clean = df.copy()"
   ]
  },
  {
   "cell_type": "code",
   "execution_count": 10,
   "id": "4e6de374-8582-40cb-858b-753afc547c5f",
   "metadata": {},
   "outputs": [
    {
     "name": "stdout",
     "output_type": "stream",
     "text": [
      "<class 'pandas.core.frame.DataFrame'>\n",
      "RangeIndex: 1784 entries, 0 to 1783\n",
      "Data columns (total 7 columns):\n",
      " #   Column               Non-Null Count  Dtype  \n",
      "---  ------               --------------  -----  \n",
      " 0   Unnamed: 0           1784 non-null   int64  \n",
      " 1   Age                  1784 non-null   float64\n",
      " 2   Gender               1784 non-null   object \n",
      " 3   Education Level      1784 non-null   object \n",
      " 4   Job Title            1784 non-null   object \n",
      " 5   Years of Experience  1784 non-null   float64\n",
      " 6   Salary               1784 non-null   float64\n",
      "dtypes: float64(3), int64(1), object(3)\n",
      "memory usage: 97.7+ KB\n"
     ]
    }
   ],
   "source": [
    "df_clean.dropna(inplace=True)\n",
    "df_clean.info()"
   ]
  },
  {
   "cell_type": "markdown",
   "id": "aaa971fa-3f59-4e86-abbf-d8570113fa32",
   "metadata": {},
   "source": [
    "# Count of levels (or sub-levels) in categorical columns."
   ]
  },
  {
   "cell_type": "code",
   "execution_count": 11,
   "id": "e3ac3c42-b57f-49a8-a643-d3d6e1af226d",
   "metadata": {},
   "outputs": [
    {
     "name": "stdout",
     "output_type": "stream",
     "text": [
      "Column Gender: 3 sub-levels\n",
      "Column Education Level: 4 sub-levels\n",
      "Column Job Title: 191 sub-levels\n"
     ]
    }
   ],
   "source": [
    "cols_cat = ['Gender','Education Level','Job Title']\n",
    "\n",
    "for col in cols_cat:\n",
    "    print(f'Column {col}: {df_clean[col].nunique()} sub-levels')"
   ]
  },
  {
   "cell_type": "markdown",
   "id": "cd72ea05-f71c-4f02-9725-1c16e434c46c",
   "metadata": {},
   "source": [
    "## Descriptive Stadistic."
   ]
  },
  {
   "cell_type": "code",
   "execution_count": 12,
   "id": "6f9f4d39-1acf-4c07-8e29-b4b5ea746d78",
   "metadata": {},
   "outputs": [
    {
     "data": {
      "text/html": [
       "<div>\n",
       "<style scoped>\n",
       "    .dataframe tbody tr th:only-of-type {\n",
       "        vertical-align: middle;\n",
       "    }\n",
       "\n",
       "    .dataframe tbody tr th {\n",
       "        vertical-align: top;\n",
       "    }\n",
       "\n",
       "    .dataframe thead th {\n",
       "        text-align: right;\n",
       "    }\n",
       "</style>\n",
       "<table border=\"1\" class=\"dataframe\">\n",
       "  <thead>\n",
       "    <tr style=\"text-align: right;\">\n",
       "      <th></th>\n",
       "      <th>Unnamed: 0</th>\n",
       "      <th>Age</th>\n",
       "      <th>Years of Experience</th>\n",
       "      <th>Salary</th>\n",
       "    </tr>\n",
       "  </thead>\n",
       "  <tbody>\n",
       "    <tr>\n",
       "      <th>count</th>\n",
       "      <td>1784.000000</td>\n",
       "      <td>1784.000000</td>\n",
       "      <td>1784.000000</td>\n",
       "      <td>1784.000000</td>\n",
       "    </tr>\n",
       "    <tr>\n",
       "      <th>mean</th>\n",
       "      <td>2844.630605</td>\n",
       "      <td>35.095291</td>\n",
       "      <td>9.138453</td>\n",
       "      <td>113038.669843</td>\n",
       "    </tr>\n",
       "    <tr>\n",
       "      <th>std</th>\n",
       "      <td>2052.786589</td>\n",
       "      <td>8.147470</td>\n",
       "      <td>6.837051</td>\n",
       "      <td>51516.786750</td>\n",
       "    </tr>\n",
       "    <tr>\n",
       "      <th>min</th>\n",
       "      <td>0.000000</td>\n",
       "      <td>21.000000</td>\n",
       "      <td>0.000000</td>\n",
       "      <td>350.000000</td>\n",
       "    </tr>\n",
       "    <tr>\n",
       "      <th>25%</th>\n",
       "      <td>1109.750000</td>\n",
       "      <td>29.000000</td>\n",
       "      <td>3.000000</td>\n",
       "      <td>70000.000000</td>\n",
       "    </tr>\n",
       "    <tr>\n",
       "      <th>50%</th>\n",
       "      <td>2631.500000</td>\n",
       "      <td>33.000000</td>\n",
       "      <td>8.000000</td>\n",
       "      <td>110000.000000</td>\n",
       "    </tr>\n",
       "    <tr>\n",
       "      <th>75%</th>\n",
       "      <td>4519.250000</td>\n",
       "      <td>41.000000</td>\n",
       "      <td>13.000000</td>\n",
       "      <td>160000.000000</td>\n",
       "    </tr>\n",
       "    <tr>\n",
       "      <th>max</th>\n",
       "      <td>6631.000000</td>\n",
       "      <td>60.000000</td>\n",
       "      <td>34.000000</td>\n",
       "      <td>250000.000000</td>\n",
       "    </tr>\n",
       "  </tbody>\n",
       "</table>\n",
       "</div>"
      ],
      "text/plain": [
       "        Unnamed: 0          Age  Years of Experience         Salary\n",
       "count  1784.000000  1784.000000          1784.000000    1784.000000\n",
       "mean   2844.630605    35.095291             9.138453  113038.669843\n",
       "std    2052.786589     8.147470             6.837051   51516.786750\n",
       "min       0.000000    21.000000             0.000000     350.000000\n",
       "25%    1109.750000    29.000000             3.000000   70000.000000\n",
       "50%    2631.500000    33.000000             8.000000  110000.000000\n",
       "75%    4519.250000    41.000000            13.000000  160000.000000\n",
       "max    6631.000000    60.000000            34.000000  250000.000000"
      ]
     },
     "execution_count": 12,
     "metadata": {},
     "output_type": "execute_result"
    }
   ],
   "source": [
    "df.describe()"
   ]
  },
  {
   "cell_type": "markdown",
   "id": "488a86e3-548f-411a-b2df-419566286004",
   "metadata": {},
   "source": [
    "# Repeated Rows."
   ]
  },
  {
   "cell_type": "code",
   "execution_count": 13,
   "id": "4f625fd4-8c2d-4330-a0af-289ff2a5ad10",
   "metadata": {},
   "outputs": [
    {
     "name": "stdout",
     "output_type": "stream",
     "text": [
      "Data size before delete repetead rows:(1784, 7)\n",
      "Data size after delete repetead rows:(1784, 7)\n"
     ]
    }
   ],
   "source": [
    "print(f'Data size before delete repetead rows:{df_clean.shape}')\n",
    "df_clean.drop_duplicates(inplace=True)\n",
    "print(f'Data size after delete repetead rows:{df_clean.shape}')"
   ]
  },
  {
   "cell_type": "markdown",
   "id": "27330a1d-f2e9-47d5-b1da-7ea9fe0e97bf",
   "metadata": {},
   "source": [
    "# Outliers."
   ]
  },
  {
   "cell_type": "code",
   "execution_count": 14,
   "id": "480ddc46-6afb-4f9e-ac2e-237b7eda4eb4",
   "metadata": {},
   "outputs": [
    {
     "data": {
      "image/png": "[encoded data removed]",
      "text/plain": [
       "<Figure size 800x1200 with 3 Axes>"
      ]
     },
     "metadata": {},
     "output_type": "display_data"
    }
   ],
   "source": [
    "cols_num = ['Age','Years of Experience','Salary']\n",
    "\n",
    "fig, ax = plt.subplots(nrows=len(cols_num), ncols=1 , figsize=(8,12))\n",
    "fig.subplots_adjust(hspace=0.5)\n",
    "\n",
    "for i, col in enumerate(cols_num):\n",
    "    sns.boxplot(x=col, data=df_clean, ax=ax[i])\n",
    "    ax[i].set_title(col)"
   ]
  },
  {
   "cell_type": "code",
   "execution_count": 15,
   "id": "cd248b7a-dc3a-4e84-b7a7-c864d4d9c57d",
   "metadata": {},
   "outputs": [
    {
     "name": "stdout",
     "output_type": "stream",
     "text": [
      "Dataset size before delete outliers in Age column: (1784, 7)\n",
      "Dataset size after delete ourliers in age column: (1784, 7)\n"
     ]
    }
   ],
   "source": [
    "# Delete Outliers.\n",
    "\n",
    "print(f'Dataset size before delete outliers in Age column: {df_clean.shape}')\n",
    "df_clean = df_clean[df_clean['Age']<= 60]\n",
    "print(f'Dataset size after delete ourliers in age column: {df_clean.shape}')"
   ]
  },
  {
   "cell_type": "code",
   "execution_count": 16,
   "id": "dd79b404-1201-44cc-866d-c4322943ff61",
   "metadata": {},
   "outputs": [
    {
     "name": "stdout",
     "output_type": "stream",
     "text": [
      "Dataset size before delete outliers in Years of Experience column: (1784, 7)\n",
      "Dataset size after delete outliers in Years of Experience column: (1784, 7)\n"
     ]
    }
   ],
   "source": [
    "print(f'Dataset size before delete outliers in Years of Experience column: {df_clean.shape}')\n",
    "df_clean = df_clean[df_clean[\"Years of Experience\"]<= 35]\n",
    "print(f'Dataset size after delete outliers in Years of Experience column: {df_clean.shape}')"
   ]
  },
  {
   "cell_type": "markdown",
   "id": "72a3eca1-d556-4106-b192-e27db3e87a87",
   "metadata": {},
   "source": [
    "# Categorical values chart."
   ]
  },
  {
   "cell_type": "code",
   "execution_count": 18,
   "id": "4ef07680-83af-4bee-b632-bd2de2789a9a",
   "metadata": {},
   "outputs": [
    {
     "name": "stderr",
     "output_type": "stream",
     "text": [
      "C:\\Users\\Liz\\AppData\\Local\\Temp\\ipykernel_29720\\4030677898.py:9: UserWarning: set_ticklabels() should only be used with a fixed number of ticks, i.e. after set_ticks() or using a FixedLocator.\n",
      "  ax[i].set_xticklabels(ax[i].get_xticklabels(), rotation=30)\n",
      "C:\\Users\\Liz\\AppData\\Local\\Temp\\ipykernel_29720\\4030677898.py:9: UserWarning: set_ticklabels() should only be used with a fixed number of ticks, i.e. after set_ticks() or using a FixedLocator.\n",
      "  ax[i].set_xticklabels(ax[i].get_xticklabels(), rotation=30)\n"
     ]
    },
    {
     "data": {
      "image/png": "[encoded data removed]",
      "text/plain": [
       "<Figure size 800x1000 with 2 Axes>"
      ]
     },
     "metadata": {},
     "output_type": "display_data"
    }
   ],
   "source": [
    "cols_cat = ['Gender', 'Education Level',]\n",
    "\n",
    "fig, ax = plt.subplots(nrows=len(cols_cat), ncols=1, figsize=(8,10))\n",
    "fig.subplots_adjust(hspace=1)\n",
    "\n",
    "for i, col in enumerate(cols_cat):\n",
    "    sns.countplot(x=col, data=df_clean, ax=ax[i])\n",
    "    ax[i].set_title(col)\n",
    "    ax[i].set_xticklabels(ax[i].get_xticklabels(), rotation=30)"
   ]
  },
  {
   "cell_type": "markdown",
   "id": "3fd130dd-7742-4c4c-aec0-6766341fda58",
   "metadata": {},
   "source": [
    "# Changes categorical values into lowercase words."
   ]
  },
  {
   "cell_type": "code",
   "execution_count": null,
   "id": "815bfd05-4b4c-44d6-9dbe-7f643df9059b",
   "metadata": {},
   "outputs": [],
   "source": [
    "for column in df_clean.columns:\n",
    "    if column in cols_cat:\n",
    "        df_clean[column] = df_clean[column].str.lower() "
   ]
  },
  {
   "cell_type": "markdown",
   "id": "d89c1ca3-afc5-4349-857a-8476ebb1c48b",
   "metadata": {},
   "source": [
    "# Categorical values chart again."
   ]
  },
  {
   "cell_type": "code",
   "execution_count": null,
   "id": "412a1d8c-eeec-4e9e-aa22-ffe16aba6b10",
   "metadata": {},
   "outputs": [],
   "source": [
    "fig, ax = plt.subplots(nrows =len(cols_cat), ncols = 1 , figsize=(8,12))\n",
    "fig.subplots_adjust(hspace=1)\n",
    "\n",
    "for i, col in enumerate(cols_cat):\n",
    "    sns.countplot(x=col, data=df_clean, ax=ax[i])\n",
    "    ax[i].set_title(col)\n",
    "    ax[i].set_xticklabels(ax[i].get_xticklabels(), rotation= 30)"
   ]
  },
  {
   "cell_type": "markdown",
   "id": "c8336fb5-3b9b-42ea-814e-7299b18e0994",
   "metadata": {},
   "source": [
    "# Standarise same words."
   ]
  },
  {
   "cell_type": "code",
   "execution_count": null,
   "id": "e2af986a-97a4-494e-9d7c-3e12ee6174f5",
   "metadata": {},
   "outputs": [],
   "source": [
    "# Add each word that means the same into unique word.\n",
    "standarise = {\n",
    "    \"bachelor's degree\" : \"Bachelor\",\n",
    "    \"bachelor's\" : \"Bachelor\",\n",
    "    \"bachelor\" : \"Bachelor\",\n",
    "    \"master's degree\" : \"Master\",\n",
    "    \"master's\" : \"Master\",\n",
    "    \"master\" : \"Master\"\n",
    "}"
   ]
  },
  {
   "cell_type": "code",
   "execution_count": null,
   "id": "140c2a06-5432-414b-ac1d-1c3e039a18a9",
   "metadata": {},
   "outputs": [],
   "source": [
    "print(df_clean['Education Level'].unique())\n",
    "df_clean['Education Level'] = df_clean['Education Level'].replace(standarise)\n",
    "print(df_clean['Education Level'].unique())"
   ]
  },
  {
   "cell_type": "code",
   "execution_count": null,
   "id": "e61e4551-afe9-4adb-9d63-8da8e19c71c1",
   "metadata": {},
   "outputs": [],
   "source": [
    "df_clean.shape"
   ]
  },
  {
   "cell_type": "code",
   "execution_count": null,
   "id": "5b2ef390-c693-4de1-8bae-e7d5b084dde3",
   "metadata": {},
   "outputs": [],
   "source": [
    "df_clean.to_csv(\"salary_clean.csv\", index=False)"
   ]
  }
 ],
 "metadata": {
  "kernelspec": {
   "display_name": "Python 3 (ipykernel)",
   "language": "python",
   "name": "python3"
  },
  "language_info": {
   "codemirror_mode": {
    "name": "ipython",
    "version": 3
   },
   "file_extension": ".py",
   "mimetype": "text/x-python",
   "name": "python",
   "nbconvert_exporter": "python",
   "pygments_lexer": "ipython3",
   "version": "3.11.7"
  }
 },
 "nbformat": 4,
 "nbformat_minor": 5
}
