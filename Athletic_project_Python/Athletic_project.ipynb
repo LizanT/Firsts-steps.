{
 "cells": [
  {
   "cell_type": "markdown",
   "id": "b2ff1e9d-b655-4761-a494-7641dd89dd7b",
   "metadata": {},
   "source": [
    "# Análisis de rendimiento deportivo."
   ]
  },
  {
   "cell_type": "markdown",
   "id": "3d6184e9-6b09-44e8-a0a7-37a9ba96ea39",
   "metadata": {},
   "source": [
    "## Fases del proyecto.\n",
    "\n",
    "#### 1) Análisis de datos (Pandas).\n",
    "#### 2) Visualización de los datos (Matplotlib).\n",
    "#### 3) Cálculos (Numpy)."
   ]
  },
  {
   "cell_type": "markdown",
   "id": "ac6cc1c2-9a2f-4d87-a819-63d718202602",
   "metadata": {},
   "source": [
    "## Preguntas clave.\n",
    "#### ¿Qué atleta muestra mayor mejora?\n",
    "#### ¿En qué semana hubo el mejor rendimiento general?\n",
    "#### ¿Qué atleta es más consistente?\n",
    "#### ¿Hay alguna tendencia observable?"
   ]
  },
  {
   "cell_type": "markdown",
   "id": "52fa6e9a-7e45-44e4-adc8-91ed3be5003c",
   "metadata": {},
   "source": [
    " "
   ]
  },
  {
   "cell_type": "code",
   "execution_count": 1,
   "id": "ec2a43e1-84b1-4aa1-a028-09167725c717",
   "metadata": {},
   "outputs": [],
   "source": [
    "#Instalación de librerias.\n",
    "import numpy as np\n",
    "import pandas as pd\n",
    "import matplotlib.pyplot as plt"
   ]
  },
  {
   "cell_type": "code",
   "execution_count": 2,
   "id": "2cfc167b-588e-4f29-ba6e-3ae00d69ef7e",
   "metadata": {},
   "outputs": [],
   "source": [
    "#Creamos una semilla para tener los datos fijos.\n",
    "np.random.seed(123)"
   ]
  },
  {
   "cell_type": "code",
   "execution_count": 3,
   "id": "7b338bfb-cc52-477c-9f31-4c0739a99058",
   "metadata": {},
   "outputs": [],
   "source": [
    "# Creamos las listas.\n",
    "atletas = ['Ana','Carlos','María','Javier','Laura']\n",
    "disciplinas = ['Velocidad','Resistencia','Fuerza','Flexibilidad']"
   ]
  },
  {
   "cell_type": "code",
   "execution_count": 46,
   "id": "b2e1058a-3c3d-4eb5-bdcd-fa9b66d801d6",
   "metadata": {},
   "outputs": [],
   "source": [
    "#Datos de rendimiento (puntuación 100) durante 8 semanas.\n",
    "rendimiento = np.array([\n",
    "    [85, 78, 82, 79, 88, 90, 92, 95],  # Ana\n",
    "    [72, 75, 80, 82, 85, 83, 88, 90],  # Carlos  \n",
    "    [90, 88, 85, 87, 89, 91, 94, 96],  # Maria\n",
    "    [65, 70, 75, 78, 80, 82, 85, 88],  # Javier\n",
    "    [88, 85, 87, 89, 91, 90, 93, 95]   # Laura\n",
    "])\n",
    "\n",
    "semanas = ['Semana_1','Semana_2','Semana_3','Semana_4','Semana_5','Semana_6','Semana_7','Semana_8']"
   ]
  },
  {
   "cell_type": "markdown",
   "id": "01ac21fc-912c-4bd4-aed6-07e989b9cd50",
   "metadata": {},
   "source": [
    "# Análisis de datos (Pandas)."
   ]
  },
  {
   "cell_type": "code",
   "execution_count": 5,
   "id": "10f2a498-1e57-4f1f-b591-e301d57efcbc",
   "metadata": {},
   "outputs": [],
   "source": [
    "df_rendimiento = pd.DataFrame(rendimiento, index=atletas, columns=semanas)"
   ]
  },
  {
   "cell_type": "code",
   "execution_count": 6,
   "id": "97b974cd-4c08-4e8c-92ab-46d7154fa38f",
   "metadata": {
    "scrolled": true
   },
   "outputs": [
    {
     "data": {
      "text/html": [
       "<div>\n",
       "<style scoped>\n",
       "    .dataframe tbody tr th:only-of-type {\n",
       "        vertical-align: middle;\n",
       "    }\n",
       "\n",
       "    .dataframe tbody tr th {\n",
       "        vertical-align: top;\n",
       "    }\n",
       "\n",
       "    .dataframe thead th {\n",
       "        text-align: right;\n",
       "    }\n",
       "</style>\n",
       "<table border=\"1\" class=\"dataframe\">\n",
       "  <thead>\n",
       "    <tr style=\"text-align: right;\">\n",
       "      <th></th>\n",
       "      <th>Semana_1</th>\n",
       "      <th>Semana_2</th>\n",
       "      <th>Semana_3</th>\n",
       "      <th>Semana_4</th>\n",
       "      <th>Semana_5</th>\n",
       "      <th>Semana_6</th>\n",
       "      <th>Semana_7</th>\n",
       "      <th>Semana_8</th>\n",
       "    </tr>\n",
       "  </thead>\n",
       "  <tbody>\n",
       "    <tr>\n",
       "      <th>Ana</th>\n",
       "      <td>85</td>\n",
       "      <td>78</td>\n",
       "      <td>82</td>\n",
       "      <td>79</td>\n",
       "      <td>88</td>\n",
       "      <td>90</td>\n",
       "      <td>92</td>\n",
       "      <td>95</td>\n",
       "    </tr>\n",
       "    <tr>\n",
       "      <th>Carlos</th>\n",
       "      <td>72</td>\n",
       "      <td>75</td>\n",
       "      <td>80</td>\n",
       "      <td>82</td>\n",
       "      <td>85</td>\n",
       "      <td>83</td>\n",
       "      <td>88</td>\n",
       "      <td>90</td>\n",
       "    </tr>\n",
       "    <tr>\n",
       "      <th>María</th>\n",
       "      <td>90</td>\n",
       "      <td>88</td>\n",
       "      <td>85</td>\n",
       "      <td>87</td>\n",
       "      <td>89</td>\n",
       "      <td>91</td>\n",
       "      <td>94</td>\n",
       "      <td>96</td>\n",
       "    </tr>\n",
       "    <tr>\n",
       "      <th>Javier</th>\n",
       "      <td>65</td>\n",
       "      <td>70</td>\n",
       "      <td>75</td>\n",
       "      <td>78</td>\n",
       "      <td>80</td>\n",
       "      <td>82</td>\n",
       "      <td>85</td>\n",
       "      <td>88</td>\n",
       "    </tr>\n",
       "    <tr>\n",
       "      <th>Laura</th>\n",
       "      <td>88</td>\n",
       "      <td>85</td>\n",
       "      <td>87</td>\n",
       "      <td>89</td>\n",
       "      <td>91</td>\n",
       "      <td>90</td>\n",
       "      <td>93</td>\n",
       "      <td>95</td>\n",
       "    </tr>\n",
       "  </tbody>\n",
       "</table>\n",
       "</div>"
      ],
      "text/plain": [
       "        Semana_1  Semana_2  Semana_3  Semana_4  Semana_5  Semana_6  Semana_7  \\\n",
       "Ana           85        78        82        79        88        90        92   \n",
       "Carlos        72        75        80        82        85        83        88   \n",
       "María         90        88        85        87        89        91        94   \n",
       "Javier        65        70        75        78        80        82        85   \n",
       "Laura         88        85        87        89        91        90        93   \n",
       "\n",
       "        Semana_8  \n",
       "Ana           95  \n",
       "Carlos        90  \n",
       "María         96  \n",
       "Javier        88  \n",
       "Laura         95  "
      ]
     },
     "execution_count": 6,
     "metadata": {},
     "output_type": "execute_result"
    }
   ],
   "source": [
    "df_rendimiento"
   ]
  },
  {
   "cell_type": "markdown",
   "id": "be0a5b35-56d4-49fe-ad42-6430d2f09bc0",
   "metadata": {},
   "source": [
    "# Estadística individual."
   ]
  },
  {
   "cell_type": "code",
   "execution_count": 13,
   "id": "615154c6-c65a-40be-9672-3d9749d01c25",
   "metadata": {},
   "outputs": [
    {
     "data": {
      "text/html": [
       "<div>\n",
       "<style scoped>\n",
       "    .dataframe tbody tr th:only-of-type {\n",
       "        vertical-align: middle;\n",
       "    }\n",
       "\n",
       "    .dataframe tbody tr th {\n",
       "        vertical-align: top;\n",
       "    }\n",
       "\n",
       "    .dataframe thead th {\n",
       "        text-align: right;\n",
       "    }\n",
       "</style>\n",
       "<table border=\"1\" class=\"dataframe\">\n",
       "  <thead>\n",
       "    <tr style=\"text-align: right;\">\n",
       "      <th></th>\n",
       "      <th>mean</th>\n",
       "      <th>min</th>\n",
       "      <th>max</th>\n",
       "    </tr>\n",
       "  </thead>\n",
       "  <tbody>\n",
       "    <tr>\n",
       "      <th>Ana</th>\n",
       "      <td>86.125</td>\n",
       "      <td>78.0</td>\n",
       "      <td>95.0</td>\n",
       "    </tr>\n",
       "    <tr>\n",
       "      <th>Carlos</th>\n",
       "      <td>81.875</td>\n",
       "      <td>72.0</td>\n",
       "      <td>90.0</td>\n",
       "    </tr>\n",
       "    <tr>\n",
       "      <th>María</th>\n",
       "      <td>90.000</td>\n",
       "      <td>85.0</td>\n",
       "      <td>96.0</td>\n",
       "    </tr>\n",
       "    <tr>\n",
       "      <th>Javier</th>\n",
       "      <td>77.875</td>\n",
       "      <td>65.0</td>\n",
       "      <td>88.0</td>\n",
       "    </tr>\n",
       "    <tr>\n",
       "      <th>Laura</th>\n",
       "      <td>89.750</td>\n",
       "      <td>85.0</td>\n",
       "      <td>95.0</td>\n",
       "    </tr>\n",
       "  </tbody>\n",
       "</table>\n",
       "</div>"
      ],
      "text/plain": [
       "          mean   min   max\n",
       "Ana     86.125  78.0  95.0\n",
       "Carlos  81.875  72.0  90.0\n",
       "María   90.000  85.0  96.0\n",
       "Javier  77.875  65.0  88.0\n",
       "Laura   89.750  85.0  95.0"
      ]
     },
     "execution_count": 13,
     "metadata": {},
     "output_type": "execute_result"
    }
   ],
   "source": [
    "df_rendimiento.loc[['Ana','Carlos','María','Javier','Laura']].agg(['mean','min','max'],axis=1)"
   ]
  },
  {
   "cell_type": "markdown",
   "id": "8ec8021e-3265-4880-b62c-1672fe26e870",
   "metadata": {},
   "source": [
    "#### Los datos reflejan que de nuestros atletas, María cuenta con la media y el máximo más solido que los demás atletas.\n",
    "#### Javier es el atleta con el mínimo y máximo más bajo de todos."
   ]
  },
  {
   "cell_type": "markdown",
   "id": "5cf1b4a6-01f8-46c4-9b6d-0bf5845a51b8",
   "metadata": {},
   "source": [
    "# Estadísticas por Semana."
   ]
  },
  {
   "cell_type": "code",
   "execution_count": 8,
   "id": "d2cb4b0c-b8d0-4e84-9355-821b58baf18f",
   "metadata": {},
   "outputs": [
    {
     "name": "stdout",
     "output_type": "stream",
     "text": [
      "SEMANAS --> TOTAL - MEDIA - MÍNIMO - MÁXIMO \n"
     ]
    },
    {
     "data": {
      "text/html": [
       "<div>\n",
       "<style scoped>\n",
       "    .dataframe tbody tr th:only-of-type {\n",
       "        vertical-align: middle;\n",
       "    }\n",
       "\n",
       "    .dataframe tbody tr th {\n",
       "        vertical-align: top;\n",
       "    }\n",
       "\n",
       "    .dataframe thead th {\n",
       "        text-align: right;\n",
       "    }\n",
       "</style>\n",
       "<table border=\"1\" class=\"dataframe\">\n",
       "  <thead>\n",
       "    <tr style=\"text-align: right;\">\n",
       "      <th></th>\n",
       "      <th>Semana_1</th>\n",
       "      <th>Semana_2</th>\n",
       "      <th>Semana_3</th>\n",
       "      <th>Semana_4</th>\n",
       "      <th>Semana_5</th>\n",
       "      <th>Semana_6</th>\n",
       "      <th>Semana_7</th>\n",
       "      <th>Semana_8</th>\n",
       "    </tr>\n",
       "  </thead>\n",
       "  <tbody>\n",
       "    <tr>\n",
       "      <th>sum</th>\n",
       "      <td>400.0</td>\n",
       "      <td>396.0</td>\n",
       "      <td>409.0</td>\n",
       "      <td>415.0</td>\n",
       "      <td>433.0</td>\n",
       "      <td>436.0</td>\n",
       "      <td>452.0</td>\n",
       "      <td>464.0</td>\n",
       "    </tr>\n",
       "    <tr>\n",
       "      <th>mean</th>\n",
       "      <td>80.0</td>\n",
       "      <td>79.2</td>\n",
       "      <td>81.8</td>\n",
       "      <td>83.0</td>\n",
       "      <td>86.6</td>\n",
       "      <td>87.2</td>\n",
       "      <td>90.4</td>\n",
       "      <td>92.8</td>\n",
       "    </tr>\n",
       "    <tr>\n",
       "      <th>min</th>\n",
       "      <td>65.0</td>\n",
       "      <td>70.0</td>\n",
       "      <td>75.0</td>\n",
       "      <td>78.0</td>\n",
       "      <td>80.0</td>\n",
       "      <td>82.0</td>\n",
       "      <td>85.0</td>\n",
       "      <td>88.0</td>\n",
       "    </tr>\n",
       "    <tr>\n",
       "      <th>max</th>\n",
       "      <td>90.0</td>\n",
       "      <td>88.0</td>\n",
       "      <td>87.0</td>\n",
       "      <td>89.0</td>\n",
       "      <td>91.0</td>\n",
       "      <td>91.0</td>\n",
       "      <td>94.0</td>\n",
       "      <td>96.0</td>\n",
       "    </tr>\n",
       "  </tbody>\n",
       "</table>\n",
       "</div>"
      ],
      "text/plain": [
       "      Semana_1  Semana_2  Semana_3  Semana_4  Semana_5  Semana_6  Semana_7  \\\n",
       "sum      400.0     396.0     409.0     415.0     433.0     436.0     452.0   \n",
       "mean      80.0      79.2      81.8      83.0      86.6      87.2      90.4   \n",
       "min       65.0      70.0      75.0      78.0      80.0      82.0      85.0   \n",
       "max       90.0      88.0      87.0      89.0      91.0      91.0      94.0   \n",
       "\n",
       "      Semana_8  \n",
       "sum      464.0  \n",
       "mean      92.8  \n",
       "min       88.0  \n",
       "max       96.0  "
      ]
     },
     "execution_count": 8,
     "metadata": {},
     "output_type": "execute_result"
    }
   ],
   "source": [
    "print('SEMANAS --> TOTAL - MEDIA - MÍNIMO - MÁXIMO ')\n",
    "df_rendimiento[['Semana_1','Semana_2','Semana_3','Semana_4','Semana_5','Semana_6','Semana_7','Semana_8']].agg(['sum','mean','min','max'])\n"
   ]
  },
  {
   "cell_type": "markdown",
   "id": "a7b9e6a2-7ade-4340-98e6-fa6b0fb7d81b",
   "metadata": {},
   "source": [
    "#### La semana 8 es la semana donde más datos se generaró, también es la semana donde el hubo el máximo más alto.\n",
    "#### La semana 1 es la semana donde menos rendimiento se reportó."
   ]
  },
  {
   "cell_type": "markdown",
   "id": "e4f8ffc8-8117-4e24-81c1-0b6a6314c9d0",
   "metadata": {},
   "source": [
    "# Estadística descriptiva."
   ]
  },
  {
   "cell_type": "code",
   "execution_count": 9,
   "id": "e7fbc8bb-9a5e-40c1-9261-49dabf53e1ec",
   "metadata": {},
   "outputs": [],
   "source": [
    "estadisticas=df_rendimiento.describe()"
   ]
  },
  {
   "cell_type": "code",
   "execution_count": 10,
   "id": "6fa0fd8f-2cf9-49b8-bcfa-ed6a6dea9a72",
   "metadata": {},
   "outputs": [
    {
     "data": {
      "text/html": [
       "<div>\n",
       "<style scoped>\n",
       "    .dataframe tbody tr th:only-of-type {\n",
       "        vertical-align: middle;\n",
       "    }\n",
       "\n",
       "    .dataframe tbody tr th {\n",
       "        vertical-align: top;\n",
       "    }\n",
       "\n",
       "    .dataframe thead th {\n",
       "        text-align: right;\n",
       "    }\n",
       "</style>\n",
       "<table border=\"1\" class=\"dataframe\">\n",
       "  <thead>\n",
       "    <tr style=\"text-align: right;\">\n",
       "      <th></th>\n",
       "      <th>Semana_1</th>\n",
       "      <th>Semana_2</th>\n",
       "      <th>Semana_3</th>\n",
       "      <th>Semana_4</th>\n",
       "      <th>Semana_5</th>\n",
       "      <th>Semana_6</th>\n",
       "      <th>Semana_7</th>\n",
       "      <th>Semana_8</th>\n",
       "    </tr>\n",
       "  </thead>\n",
       "  <tbody>\n",
       "    <tr>\n",
       "      <th>count</th>\n",
       "      <td>5.000000</td>\n",
       "      <td>5.000000</td>\n",
       "      <td>5.000000</td>\n",
       "      <td>5.00000</td>\n",
       "      <td>5.00000</td>\n",
       "      <td>5.00000</td>\n",
       "      <td>5.000000</td>\n",
       "      <td>5.000000</td>\n",
       "    </tr>\n",
       "    <tr>\n",
       "      <th>mean</th>\n",
       "      <td>80.000000</td>\n",
       "      <td>79.200000</td>\n",
       "      <td>81.800000</td>\n",
       "      <td>83.00000</td>\n",
       "      <td>86.60000</td>\n",
       "      <td>87.20000</td>\n",
       "      <td>90.400000</td>\n",
       "      <td>92.800000</td>\n",
       "    </tr>\n",
       "    <tr>\n",
       "      <th>std</th>\n",
       "      <td>10.931606</td>\n",
       "      <td>7.328028</td>\n",
       "      <td>4.658326</td>\n",
       "      <td>4.84768</td>\n",
       "      <td>4.27785</td>\n",
       "      <td>4.32435</td>\n",
       "      <td>3.781534</td>\n",
       "      <td>3.563706</td>\n",
       "    </tr>\n",
       "    <tr>\n",
       "      <th>min</th>\n",
       "      <td>65.000000</td>\n",
       "      <td>70.000000</td>\n",
       "      <td>75.000000</td>\n",
       "      <td>78.00000</td>\n",
       "      <td>80.00000</td>\n",
       "      <td>82.00000</td>\n",
       "      <td>85.000000</td>\n",
       "      <td>88.000000</td>\n",
       "    </tr>\n",
       "    <tr>\n",
       "      <th>25%</th>\n",
       "      <td>72.000000</td>\n",
       "      <td>75.000000</td>\n",
       "      <td>80.000000</td>\n",
       "      <td>79.00000</td>\n",
       "      <td>85.00000</td>\n",
       "      <td>83.00000</td>\n",
       "      <td>88.000000</td>\n",
       "      <td>90.000000</td>\n",
       "    </tr>\n",
       "    <tr>\n",
       "      <th>50%</th>\n",
       "      <td>85.000000</td>\n",
       "      <td>78.000000</td>\n",
       "      <td>82.000000</td>\n",
       "      <td>82.00000</td>\n",
       "      <td>88.00000</td>\n",
       "      <td>90.00000</td>\n",
       "      <td>92.000000</td>\n",
       "      <td>95.000000</td>\n",
       "    </tr>\n",
       "    <tr>\n",
       "      <th>75%</th>\n",
       "      <td>88.000000</td>\n",
       "      <td>85.000000</td>\n",
       "      <td>85.000000</td>\n",
       "      <td>87.00000</td>\n",
       "      <td>89.00000</td>\n",
       "      <td>90.00000</td>\n",
       "      <td>93.000000</td>\n",
       "      <td>95.000000</td>\n",
       "    </tr>\n",
       "    <tr>\n",
       "      <th>max</th>\n",
       "      <td>90.000000</td>\n",
       "      <td>88.000000</td>\n",
       "      <td>87.000000</td>\n",
       "      <td>89.00000</td>\n",
       "      <td>91.00000</td>\n",
       "      <td>91.00000</td>\n",
       "      <td>94.000000</td>\n",
       "      <td>96.000000</td>\n",
       "    </tr>\n",
       "  </tbody>\n",
       "</table>\n",
       "</div>"
      ],
      "text/plain": [
       "        Semana_1   Semana_2   Semana_3  Semana_4  Semana_5  Semana_6  \\\n",
       "count   5.000000   5.000000   5.000000   5.00000   5.00000   5.00000   \n",
       "mean   80.000000  79.200000  81.800000  83.00000  86.60000  87.20000   \n",
       "std    10.931606   7.328028   4.658326   4.84768   4.27785   4.32435   \n",
       "min    65.000000  70.000000  75.000000  78.00000  80.00000  82.00000   \n",
       "25%    72.000000  75.000000  80.000000  79.00000  85.00000  83.00000   \n",
       "50%    85.000000  78.000000  82.000000  82.00000  88.00000  90.00000   \n",
       "75%    88.000000  85.000000  85.000000  87.00000  89.00000  90.00000   \n",
       "max    90.000000  88.000000  87.000000  89.00000  91.00000  91.00000   \n",
       "\n",
       "        Semana_7   Semana_8  \n",
       "count   5.000000   5.000000  \n",
       "mean   90.400000  92.800000  \n",
       "std     3.781534   3.563706  \n",
       "min    85.000000  88.000000  \n",
       "25%    88.000000  90.000000  \n",
       "50%    92.000000  95.000000  \n",
       "75%    93.000000  95.000000  \n",
       "max    94.000000  96.000000  "
      ]
     },
     "execution_count": 10,
     "metadata": {},
     "output_type": "execute_result"
    }
   ],
   "source": [
    "estadisticas"
   ]
  },
  {
   "cell_type": "markdown",
   "id": "adc050b8-2724-4abd-a493-92faee4bd0c9",
   "metadata": {},
   "source": [
    "# Visualización"
   ]
  },
  {
   "cell_type": "code",
   "execution_count": 32,
   "id": "ad0ebb20-6e2a-42c5-8a93-852233042770",
   "metadata": {},
   "outputs": [
    {
     "data": {
      "image/png": "[encoded data removed]",
      "text/plain": [
       "<Figure size 2000x1000 with 1 Axes>"
      ]
     },
     "metadata": {},
     "output_type": "display_data"
    }
   ],
   "source": [
    "#definimos tamaño de la figura.\n",
    "plt.figure(figsize=(20,10))\n",
    "\n",
    "colores_atletas = {\n",
    "    'Ana' : 'green',\n",
    "    'Carlos' : 'gray',\n",
    "    'María' : 'red',\n",
    "    'Javier' : 'purple',\n",
    "    'Laura' : 'blue'\n",
    "}\n",
    "\n",
    "for atleta in atletas:\n",
    "    plt.plot(\n",
    "        semanas,\n",
    "        df_rendimiento.loc[atleta],\n",
    "        marker='o',\n",
    "        linestyle='-',\n",
    "        color=colores_atletas[atleta],\n",
    "        linewidth = 3,\n",
    "        markersize = 9,\n",
    "        label = atleta, \n",
    "    )\n",
    "plt.title('Evolución de atletas en 8 semanas.')\n",
    "plt.xlabel('Semanas.')\n",
    "plt.ylabel('Atletas.')\n",
    "plt.legend()\n",
    "plt.grid(True)\n",
    "plt.show()"
   ]
  },
  {
   "cell_type": "markdown",
   "id": "8c73e7e2-7556-458d-a1cd-632a76b5dd17",
   "metadata": {},
   "source": [
    "# Progreso semana a semana."
   ]
  },
  {
   "cell_type": "code",
   "execution_count": 41,
   "id": "8731e9dc-c637-4842-afdb-899bfc7e5625",
   "metadata": {},
   "outputs": [
    {
     "name": "stdout",
     "output_type": "stream",
     "text": [
      "        Semana_1  Semana_2  Semana_3  Semana_4  Semana_5  Semana_6  Semana_7  \\\n",
      "Ana          NaN        -7         4        -3         9         2         2   \n",
      "Carlos       NaN         3         5         2         3        -2         5   \n",
      "María        NaN        -2        -3         2         2         2         3   \n",
      "Javier       NaN         5         5         3         2         2         3   \n",
      "Laura        NaN        -3         2         2         2        -1         3   \n",
      "\n",
      "        Semana_8  \n",
      "Ana            3  \n",
      "Carlos         2  \n",
      "María          2  \n",
      "Javier         3  \n",
      "Laura          2  \n"
     ]
    }
   ],
   "source": [
    "# Diferencia absoluta entre semanas consecutivas.\n",
    "progreso_weeks = df_rendimiento.diff (axis=1)    # diff es la diferencias, en este caso en un nuestra fila 1.\n",
    "print(progreso_weeks)"
   ]
  },
  {
   "cell_type": "markdown",
   "id": "49f85639-7343-479b-86ff-4896e70204df",
   "metadata": {},
   "source": [
    "# Progreso Porcentual."
   ]
  },
  {
   "cell_type": "code",
   "execution_count": 45,
   "id": "3e9a594d-8a19-4870-9b13-84b188089180",
   "metadata": {},
   "outputs": [
    {
     "name": "stdout",
     "output_type": "stream",
     "text": [
      "        Semana_1  Semana_2  Semana_3  Semana_4  Semana_5  Semana_6  Semana_7  \\\n",
      "Ana          NaN     -8.24      5.13     -3.66     11.39      2.27      2.22   \n",
      "Carlos       NaN      4.17      6.67      2.50      3.66     -2.35      6.02   \n",
      "María        NaN     -2.22     -3.41      2.35      2.30      2.25      3.30   \n",
      "Javier       NaN      7.69      7.14      4.00      2.56      2.50      3.66   \n",
      "Laura        NaN     -3.41      2.35      2.30      2.25     -1.10      3.33   \n",
      "\n",
      "        Semana_8  \n",
      "Ana         3.26  \n",
      "Carlos      2.27  \n",
      "María       2.13  \n",
      "Javier      3.53  \n",
      "Laura       2.15  \n"
     ]
    }
   ],
   "source": [
    "progreso_por = df_rendimiento.pct_change(axis=1)* 100  # Donde pct_change() representa el cambio porcentual entre elementos consecutivos.\n",
    "print(progreso_por.round(2))"
   ]
  },
  {
   "cell_type": "markdown",
   "id": "a9485c79-ec64-476d-bec5-5314ec5521e5",
   "metadata": {},
   "source": [
    " "
   ]
  },
  {
   "cell_type": "markdown",
   "id": "fd8404a6-8d8b-477e-af0f-ed2754a0f311",
   "metadata": {},
   "source": [
    "# Respuestas clave."
   ]
  },
  {
   "cell_type": "markdown",
   "id": "d6f598b4-da2a-400c-a064-3e12c2ceb495",
   "metadata": {},
   "source": [
    "### ¿Qué atleta muestra mayor mejora?"
   ]
  },
  {
   "cell_type": "markdown",
   "id": "a00da736-73fe-4675-ad84-0d5feebf5a42",
   "metadata": {},
   "source": [
    "#### Podemos ver que María desde la semana 1 a la semana 8 tiene un mejoría de 6 puntos, siendo la que obtiene el mayor rendimiento.\n",
    "#### Sin embargo, Javier no obtuvo un máximo sobresaliente pero tiene una mejora de 23 puntos entre la semana 1 y la semana 8, siendo este el que muestra mayor mejora entre todos los atletas."
   ]
  },
  {
   "cell_type": "markdown",
   "id": "5f6b56be-1969-4911-849e-885beca46870",
   "metadata": {},
   "source": [
    " "
   ]
  },
  {
   "cell_type": "markdown",
   "id": "3c9f30cc-0488-4e9e-a973-728281952abf",
   "metadata": {},
   "source": [
    "### ¿En qué semana hubo el mejor rendimiento general?"
   ]
  },
  {
   "cell_type": "markdown",
   "id": "88a78925-5556-4fdc-9ee3-6fe4600dd98a",
   "metadata": {},
   "source": [
    "#### Podemos argüir que la semana 8, esta última semana es la que ha presentado una mejora en el rendimiento general; siendo la semana donde todos los atletas han tenido mejorias además de ser la semana donde estos obtienen sus máximos de rendimiento."
   ]
  },
  {
   "cell_type": "markdown",
   "id": "f4519c6a-f393-4688-9ac1-79d0affeb761",
   "metadata": {},
   "source": [
    " "
   ]
  },
  {
   "cell_type": "markdown",
   "id": "dd7e57a5-5e7f-4b56-ab73-95cbe6735dff",
   "metadata": {},
   "source": [
    "### ¿Qué atleta es más consistente?"
   ]
  },
  {
   "cell_type": "markdown",
   "id": "f9362f7b-ecf3-4e24-95cb-59ffb5dab56f",
   "metadata": {},
   "source": [
    "#### Javier ha demostrado ser el único atleta que no presenta una regresión, todo lo contrario, en cada semana ha mostrado una mejoria llegando a obtener en la semana 8 una mejora de 23 puntos de rendimiento desde la semana 1, siendo este el atleta qué obtuvo más rendimiento en general.\n",
    "\n",
    "#### Cabe destacar que Ana de la semana 4 a la semana 5 obtiene una mejoria significativa; pasando a tomar  8 puntos de mejoria solamente entre una semana y la otra."
   ]
  },
  {
   "cell_type": "markdown",
   "id": "b7a23057-dd80-4005-8a13-119108189e0b",
   "metadata": {},
   "source": [
    " "
   ]
  },
  {
   "cell_type": "markdown",
   "id": "b8fb81dd-475a-47f2-a731-fd375f862146",
   "metadata": {},
   "source": [
    "### ¿Hay una tendencia observable?"
   ]
  },
  {
   "cell_type": "markdown",
   "id": "b5f6272d-876a-4a65-8397-53dcd197d6ad",
   "metadata": {},
   "source": [
    "#### Podemos observar que existe una tendencia a la mejoria de cada uno de los atletas, los números y la gráfica nos muestran como todos los atletas incluso con sus retrosesos tienden a obtener una mejora; podemos argüir que después de la semana 8 estos seguiran con mejoria hasta que lleguen a un punto de estabilidad."
   ]
  }
 ],
 "metadata": {
  "kernelspec": {
   "display_name": "Python 3 (ipykernel)",
   "language": "python",
   "name": "python3"
  },
  "language_info": {
   "codemirror_mode": {
    "name": "ipython",
    "version": 3
   },
   "file_extension": ".py",
   "mimetype": "text/x-python",
   "name": "python",
   "nbconvert_exporter": "python",
   "pygments_lexer": "ipython3",
   "version": "3.11.7"
  }
 },
 "nbformat": 4,
 "nbformat_minor": 5
}
